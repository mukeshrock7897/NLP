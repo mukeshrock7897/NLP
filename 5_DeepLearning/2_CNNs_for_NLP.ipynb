{
 "cells": [
  {
   "cell_type": "markdown",
   "metadata": {},
   "source": [
    "\n",
    "---\n",
    "\n",
    "# 🖼️ CNNs for NLP\n",
    "\n",
    "## 🎯 Intent\n",
    "\n",
    "Use **Convolutional Neural Networks (CNNs)** 🧩 (popular in vision) for **text classification & representation**.\n",
    "\n",
    "---\n",
    "\n",
    "## 🔑 Key Ideas\n",
    "\n",
    "* 🧱 **Filters/Kernels** → capture local word patterns (n-grams).\n",
    "* 🌀 **Pooling** → keeps only the most important features.\n",
    "* 🏗️ **Stacking layers** → learns hierarchical patterns in text.\n",
    "\n",
    "---\n",
    "\n",
    "## 📌 Applications\n",
    "\n",
    "* 🗂️ Text Classification (spam, sentiment)\n",
    "* 🔡 Character-level CNNs (typo-robust models)\n",
    "* 🧬 Hybrid CNN-RNN models (local + sequential patterns)\n",
    "\n",
    "---\n"
   ]
  },
  {
   "cell_type": "markdown",
   "metadata": {},
   "source": []
  }
 ],
 "metadata": {
  "language_info": {
   "name": "python"
  }
 },
 "nbformat": 4,
 "nbformat_minor": 2
}
