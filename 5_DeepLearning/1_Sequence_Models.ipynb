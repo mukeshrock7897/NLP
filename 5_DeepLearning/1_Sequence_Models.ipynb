{
 "cells": [
  {
   "cell_type": "markdown",
   "metadata": {},
   "source": [
    "\n",
    "---\n",
    "\n",
    "# 🔄 Sequence Models in NLP\n",
    "\n",
    "## 🎯 Intent\n",
    "\n",
    "Handle text as **sequences of words/tokens** 📝 where order matters.\n",
    "\n",
    "---\n",
    "\n",
    "## 🔑 Models\n",
    "\n",
    "* 🔁 **RNN (Recurrent Neural Network)** → remembers previous steps (short memory).\n",
    "* 🧠 **LSTM (Long Short-Term Memory)** → solves long-dependency problem.\n",
    "* ⚡ **GRU (Gated Recurrent Unit)** → simpler, faster than LSTM.\n",
    "\n",
    "---\n",
    "\n",
    "## 📌 Applications\n",
    "\n",
    "* 🏷️ POS Tagging\n",
    "* 🧾 Named Entity Recognition (NER)\n",
    "* 🌍 Machine Translation\n",
    "\n",
    "---\n"
   ]
  },
  {
   "cell_type": "markdown",
   "metadata": {},
   "source": []
  }
 ],
 "metadata": {
  "language_info": {
   "name": "python"
  }
 },
 "nbformat": 4,
 "nbformat_minor": 2
}
