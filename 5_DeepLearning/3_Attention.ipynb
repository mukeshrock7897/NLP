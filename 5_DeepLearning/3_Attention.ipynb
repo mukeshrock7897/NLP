{
 "cells": [
  {
   "cell_type": "markdown",
   "metadata": {},
   "source": [
    "\n",
    "---\n",
    "\n",
    "# 🎯 Attention in NLP\n",
    "\n",
    "## 🎯 Intent\n",
    "\n",
    "Help models focus 🔍 on the **most relevant words** in a sequence.\n",
    "\n",
    "---\n",
    "\n",
    "## 🔑 Key Concepts\n",
    "\n",
    "* 👀 **Attention Mechanism** → gives weight to important tokens.\n",
    "* 🔄 **Self-Attention** → words attend to each other in the same sequence.\n",
    "* 🎭 **Multi-Head Attention** → learns different types of relationships in parallel.\n",
    "\n",
    "---\n",
    "\n",
    "## 📌 Applications\n",
    "\n",
    "* 🌍 Machine Translation (better than RNNs)\n",
    "* 📰 Summarization\n",
    "* ❓ Question Answering\n",
    "\n",
    "---\n"
   ]
  },
  {
   "cell_type": "markdown",
   "metadata": {},
   "source": []
  }
 ],
 "metadata": {
  "language_info": {
   "name": "python"
  }
 },
 "nbformat": 4,
 "nbformat_minor": 2
}
