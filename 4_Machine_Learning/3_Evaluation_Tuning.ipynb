{
 "cells": [
  {
   "cell_type": "markdown",
   "metadata": {},
   "source": [
    "\n",
    "---\n",
    "\n",
    "# 🧪 Evaluation & Tuning in ML for NLP\n",
    "\n",
    "## 🎯 Intent\n",
    "\n",
    "Check model performance 📊 and improve it with tuning ⚙️.\n",
    "\n",
    "---\n",
    "\n",
    "## 📌 Evaluation\n",
    "\n",
    "* 📈 **Accuracy** → overall correct predictions\n",
    "* 🎯 **Precision / Recall / F1-score** → better for imbalanced data\n",
    "* 📑 **Confusion Matrix** → see class-wise performance\n",
    "\n",
    "---\n",
    "\n",
    "## ⚙️ Tuning\n",
    "\n",
    "* 🎛️ **Hyperparameter Optimization** → grid search, random search\n",
    "* 🔀 **Cross-Validation** → reliable performance check\n",
    "* ⚖️ **Imbalanced Data Handling** → oversampling, SMOTE, class weights\n",
    "\n",
    "---\n"
   ]
  },
  {
   "cell_type": "markdown",
   "metadata": {},
   "source": []
  }
 ],
 "metadata": {
  "language_info": {
   "name": "python"
  }
 },
 "nbformat": 4,
 "nbformat_minor": 2
}
