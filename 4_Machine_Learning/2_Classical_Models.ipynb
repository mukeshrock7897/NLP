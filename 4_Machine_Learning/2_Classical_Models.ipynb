{
 "cells": [
  {
   "cell_type": "markdown",
   "metadata": {},
   "source": [
    "\n",
    "---\n",
    "\n",
    "# 🏛️ Classical ML Models for NLP\n",
    "\n",
    "## 🎯 Intent\n",
    "\n",
    "Use traditional ML algorithms 📈 to solve text classification & analysis tasks.\n",
    "\n",
    "---\n",
    "\n",
    "## 🔑 Key Models\n",
    "\n",
    "* 📬 **Naive Bayes** → simple & fast, works well for spam detection\n",
    "* 📊 **Logistic Regression** → good baseline for sentiment analysis\n",
    "* 📐 **SVM (Support Vector Machine)** → handles high-dimensional text features\n",
    "* 🗂️ **Topic Modeling** →\n",
    "\n",
    "  * **LDA (Latent Dirichlet Allocation)**\n",
    "  * **NMF (Non-Negative Matrix Factorization)**\n",
    "\n",
    "---\n"
   ]
  }
 ],
 "metadata": {
  "language_info": {
   "name": "python"
  }
 },
 "nbformat": 4,
 "nbformat_minor": 2
}
