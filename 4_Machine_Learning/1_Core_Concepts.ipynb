{
 "cells": [
  {
   "cell_type": "markdown",
   "metadata": {},
   "source": [
    "\n",
    "---\n",
    "\n",
    "# 📊 Machine Learning Core Concepts (for NLP)\n",
    "\n",
    "## 🎯 Intent\n",
    "\n",
    "Teach models 📈 to learn from text data 📝 with minimal human rules.\n",
    "\n",
    "---\n",
    "\n",
    "## 🔑 Concepts\n",
    "\n",
    "* 🎯 **Supervised Learning** → train with labeled data (spam/ham, sentiment)\n",
    "* 🔍 **Unsupervised Learning** → find hidden patterns (topic modeling, clustering)\n",
    "* 🛠️ **Feature Engineering** → convert raw text → numerical features (BoW, TF-IDF, embeddings)\n",
    "\n",
    "---\n"
   ]
  },
  {
   "cell_type": "markdown",
   "metadata": {},
   "source": []
  }
 ],
 "metadata": {
  "language_info": {
   "name": "python"
  }
 },
 "nbformat": 4,
 "nbformat_minor": 2
}
