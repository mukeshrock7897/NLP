{
 "cells": [
  {
   "cell_type": "markdown",
   "metadata": {},
   "source": [
    "\n",
    "---\n",
    "\n",
    "# ⚖️ Ethics & Data in NLP\n",
    "\n",
    "## 🎯 Intent\n",
    "\n",
    "Use data responsibly 🙏 so models are **fair, safe, and unbiased**.\n",
    "\n",
    "---\n",
    "\n",
    "## 🔑 Key Points\n",
    "\n",
    "* 🔒 **Privacy** → don’t use personal/sensitive data without consent\n",
    "* 📜 **Licensing** → check dataset terms (CC, open-source, commercial use)\n",
    "* ⚖️ **Bias** → data may reflect stereotypes (gender, race, culture)\n",
    "* 🛡️ **Mitigation** → debiasing, balanced sampling, fairness-aware training\n",
    "* 🔍 **Interpretability** → explain model decisions (SHAP, LIME)\n",
    "\n",
    "---\n"
   ]
  }
 ],
 "metadata": {
  "language_info": {
   "name": "python"
  }
 },
 "nbformat": 4,
 "nbformat_minor": 2
}
