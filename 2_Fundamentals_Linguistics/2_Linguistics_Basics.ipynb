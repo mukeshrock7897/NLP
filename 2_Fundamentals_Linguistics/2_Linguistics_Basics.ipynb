{
 "cells": [
  {
   "cell_type": "markdown",
   "metadata": {},
   "source": [
    "\n",
    "---\n",
    "\n",
    "# 📚 Linguistics Basics for NLP\n",
    "\n",
    "## 🎯 Intent\n",
    "\n",
    "Understand the **structure & meaning** of language 🗣️ to build better NLP models.\n",
    "\n",
    "---\n",
    "\n",
    "## 🔑 Key Concepts\n",
    "\n",
    "* 🏷️ **Part-of-Speech (POS) Tagging** → noun, verb, adjective, etc.\n",
    "* 🌳 **Syntax & Parsing**\n",
    "\n",
    "  * **Dependency Parsing** → who depends on whom in a sentence\n",
    "  * **Constituency Parsing** → phrase structure (NP, VP, etc.)\n",
    "* 💡 **Semantics** → meaning of words & phrases\n",
    "* 🎭 **Word Sense Disambiguation** → “bat” 🦇 (animal) vs. “bat” 🏏 (sports)\n",
    "\n",
    "---\n"
   ]
  },
  {
   "cell_type": "markdown",
   "metadata": {},
   "source": []
  }
 ],
 "metadata": {
  "language_info": {
   "name": "python"
  }
 },
 "nbformat": 4,
 "nbformat_minor": 2
}
