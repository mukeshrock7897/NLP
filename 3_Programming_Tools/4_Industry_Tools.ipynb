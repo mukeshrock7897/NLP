{
 "cells": [
  {
   "cell_type": "markdown",
   "metadata": {},
   "source": [
    "\n",
    "---\n",
    "\n",
    "# 🛠️ Industry Tools for NLP\n",
    "\n",
    "## 🎯 Intent\n",
    "\n",
    "Leverage modern libraries 🚀 to use pre-trained models & build real-world AI apps.\n",
    "\n",
    "---\n",
    "\n",
    "## 🔑 Key Tools\n",
    "\n",
    "* 🤗 **Hugging Face Transformers** → pre-trained models (BERT, GPT, T5, etc.)\n",
    "* 🔗 **LangChain** → framework for building LLM-powered apps (agents, tools, workflows)\n",
    "* 📖 **LlamaIndex** → connects LLMs to external data (RAG, document Q\\&A)\n",
    "\n",
    "---\n"
   ]
  }
 ],
 "metadata": {
  "language_info": {
   "name": "python"
  }
 },
 "nbformat": 4,
 "nbformat_minor": 2
}
