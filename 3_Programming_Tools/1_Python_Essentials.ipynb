{
 "cells": [
  {
   "cell_type": "markdown",
   "metadata": {},
   "source": [
    "\n",
    "---\n",
    "\n",
    "# 🐍 Python Essentials for NLP\n",
    "\n",
    "## 🎯 Intent\n",
    "\n",
    "Use Python 🖥️ as the main language for **data handling & NLP tasks**.\n",
    "\n",
    "---\n",
    "\n",
    "## 📌 Must-Know Basics\n",
    "\n",
    "* 📂 **Data Structures** → lists, dicts, sets, tuples\n",
    "* 🔄 **Loops & Functions** → reusable code\n",
    "* 🗂️ **File Handling** → read/write text & CSV\n",
    "* 🧮 **Libraries** →\n",
    "\n",
    "  * `NumPy` → arrays & math\n",
    "  * `Pandas` → tables & dataframes\n",
    "\n",
    "---\n"
   ]
  }
 ],
 "metadata": {
  "language_info": {
   "name": "python"
  }
 },
 "nbformat": 4,
 "nbformat_minor": 2
}
