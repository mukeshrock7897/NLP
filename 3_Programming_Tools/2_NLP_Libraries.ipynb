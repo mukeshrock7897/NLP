{
 "cells": [
  {
   "cell_type": "markdown",
   "metadata": {},
   "source": [
    "\n",
    "---\n",
    "\n",
    "# 📚 NLP Libraries\n",
    "\n",
    "## 🎯 Intent\n",
    "\n",
    "Use ready-made Python 🐍 libraries to make NLP tasks faster & easier.\n",
    "\n",
    "---\n",
    "\n",
    "## 🔑 Key Libraries\n",
    "\n",
    "* 🏗️ **NLTK** → classic toolkit for tokenization, stemming, POS tagging\n",
    "* ⚡ **spaCy** → fast, production-ready NLP (NER, parsing, embeddings)\n",
    "* 📦 **Hugging Face Datasets** → easy access to thousands of text datasets\n",
    "* 🔍 **Gensim** → topic modeling, word embeddings\n",
    "\n",
    "---\n"
   ]
  }
 ],
 "metadata": {
  "language_info": {
   "name": "python"
  }
 },
 "nbformat": 4,
 "nbformat_minor": 2
}
