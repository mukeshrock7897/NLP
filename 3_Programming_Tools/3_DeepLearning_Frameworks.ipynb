{
 "cells": [
  {
   "cell_type": "markdown",
   "metadata": {},
   "source": [
    "\n",
    "---\n",
    "\n",
    "# 🧠 Deep Learning Frameworks for NLP\n",
    "\n",
    "## 🎯 Intent\n",
    "\n",
    "Build & train neural networks 🕸️ for text tasks.\n",
    "\n",
    "---\n",
    "\n",
    "## 🔑 Key Frameworks\n",
    "\n",
    "* 🔥 **PyTorch** → flexible, dynamic graphs, widely used in research\n",
    "* ⚡ **TensorFlow / Keras** → easier high-level API, production-ready\n",
    "* 🔄 **Key Features**:\n",
    "\n",
    "  * **Tensors** → n-dim arrays (like NumPy but GPU-ready)\n",
    "  * **Autograd** → automatic differentiation for backprop\n",
    "  * **Transfer Learning** → fine-tune pre-trained models (BERT, GPT)\n",
    "\n",
    "---\n"
   ]
  }
 ],
 "metadata": {
  "language_info": {
   "name": "python"
  }
 },
 "nbformat": 4,
 "nbformat_minor": 2
}
