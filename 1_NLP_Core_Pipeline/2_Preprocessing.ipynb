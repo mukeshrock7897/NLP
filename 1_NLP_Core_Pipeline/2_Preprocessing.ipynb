{
 "cells": [
  {
   "cell_type": "markdown",
   "metadata": {},
   "source": [
    "\n",
    "---\n",
    "\n",
    "# 🧹 Preprocessing in NLP\n",
    "\n",
    "## 🎯 Intent\n",
    "\n",
    "Clean & prepare text 📝 so models understand it better.\n",
    "\n",
    "---\n",
    "\n",
    "## 🔑 Key Steps\n",
    "\n",
    "* ✂️ **Tokenization** → split text into words/sentences\n",
    "* 🛠️ **Normalization** → lowercasing, remove punctuation, accents\n",
    "* 🛑 **Stopword Removal** → filter common words (the, is, and)\n",
    "* 🌱 **Stemming & Lemmatization** → reduce words to base/root form\n",
    "* 🔄 **Spell Correction** → fix typos\n",
    "* 😀 **Emoji & Special Handling** → keep/remove depending on use\n",
    "* 🚮 **Noise Removal** → remove HTML tags, URLs, numbers if not needed\n",
    "\n",
    "---\n"
   ]
  },
  {
   "cell_type": "markdown",
   "metadata": {},
   "source": []
  }
 ],
 "metadata": {
  "language_info": {
   "name": "python"
  }
 },
 "nbformat": 4,
 "nbformat_minor": 2
}
