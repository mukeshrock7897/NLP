{
 "cells": [
  {
   "cell_type": "markdown",
   "metadata": {},
   "source": [
    "\n",
    "---\n",
    "\n",
    "# 🗂️ Data Collection in NLP\n",
    "\n",
    "## 🎯 Intent\n",
    "\n",
    "Collect raw text data 📄 from different sources to train/test NLP models while keeping ethics and privacy in mind.\n",
    "\n",
    "---\n",
    "\n",
    "## 📌 Sources of Data\n",
    "\n",
    "* 📚 **Corpora** (Brown Corpus, Wikipedia Dumps, news datasets)\n",
    "* 🌐 **Web Scraping** (BeautifulSoup, Scrapy)\n",
    "* 🔑 **APIs** (Twitter/X API, Reddit API, Hugging Face Datasets)\n",
    "* 🏢 **Enterprise Data** (logs, chats, documents, support tickets)\n",
    "\n",
    "---\n",
    "\n",
    "## ⚖️ Ethical Points\n",
    "\n",
    "* 🔒 Respect **user privacy** (no personal/sensitive data without consent)\n",
    "* ⚖️ Check **data license** (Creative Commons, open source)\n",
    "* 🤖 Avoid **biased / toxic data** → it affects models badly\n",
    "\n",
    "---\n"
   ]
  },
  {
   "cell_type": "markdown",
   "metadata": {},
   "source": []
  }
 ],
 "metadata": {
  "language_info": {
   "name": "python"
  }
 },
 "nbformat": 4,
 "nbformat_minor": 2
}
