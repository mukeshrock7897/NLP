{
 "cells": [
  {
   "cell_type": "markdown",
   "metadata": {},
   "source": [
    "\n",
    "---\n",
    "\n",
    "# 🎨 Feature Representation in NLP\n",
    "\n",
    "## 🎯 Intent\n",
    "\n",
    "Turn text 📝 into numbers 🔢 so machines can learn from it.\n",
    "\n",
    "---\n",
    "\n",
    "## 🔑 Main Methods\n",
    "\n",
    "* 👜 **Bag of Words (BoW)** → word counts in a document\n",
    "* 📊 **TF-IDF** → highlights important words (rare but relevant)\n",
    "* 🧩 **Word Embeddings** → Word2Vec, GloVe, FastText → capture meaning/context\n",
    "* 🧠 **Contextual Embeddings** → BERT, GPT (word meaning depends on sentence)\n",
    "* 🔡 **Subword Tokenization** → BPE, SentencePiece → handles rare words, typos\n",
    "\n",
    "---\n",
    "\n"
   ]
  },
  {
   "cell_type": "markdown",
   "metadata": {},
   "source": []
  }
 ],
 "metadata": {
  "language_info": {
   "name": "python"
  }
 },
 "nbformat": 4,
 "nbformat_minor": 2
}
