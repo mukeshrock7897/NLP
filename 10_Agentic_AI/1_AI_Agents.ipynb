{
 "cells": [
  {
   "cell_type": "markdown",
   "metadata": {},
   "source": [
    "\n",
    "---\n",
    "\n",
    "# 🤖 AI Agents\n",
    "\n",
    "## 🎯 Intent\n",
    "\n",
    "Make LLMs act like **autonomous agents** that can reason 🧠, plan 🗺️, and use tools 🛠️.\n",
    "\n",
    "---\n",
    "\n",
    "## 📌 Key Concepts\n",
    "\n",
    "* 🔗 **Tool Use** → agents call APIs, databases, or calculators\n",
    "* 👥 **Multi-Agent Systems** → agents collaborate or debate\n",
    "* 🛠️ **Frameworks** → LangChain, LlamaIndex, AutoGPT\n",
    "\n",
    "---\n",
    "\n",
    "## ✅ Quick Summary\n",
    "\n",
    "* 👉 AI Agents = LLMs + memory + tools + planning.\n",
    "* 👉 Used in assistants, research copilots, and automation.\n",
    "\n",
    "---\n"
   ]
  },
  {
   "cell_type": "markdown",
   "metadata": {},
   "source": []
  }
 ],
 "metadata": {
  "language_info": {
   "name": "python"
  }
 },
 "nbformat": 4,
 "nbformat_minor": 2
}
