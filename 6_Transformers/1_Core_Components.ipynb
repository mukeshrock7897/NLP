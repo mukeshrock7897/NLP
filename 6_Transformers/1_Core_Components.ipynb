{
 "cells": [
  {
   "cell_type": "markdown",
   "metadata": {},
   "source": [
    "\n",
    "---\n",
    "\n",
    "# 🏗️ Transformer Core Components\n",
    "\n",
    "## 🎯 Intent\n",
    "\n",
    "Break free from RNN limits 🔗 and handle sequences in **parallel** ⚡ using attention.\n",
    "\n",
    "---\n",
    "\n",
    "## 🔑 Building Blocks\n",
    "\n",
    "* 👀 **Self-Attention** → each word relates to all others in the sequence.\n",
    "* 🎭 **Multi-Head Attention** → captures different kinds of relationships.\n",
    "* ➕ **Positional Encoding** → adds word order info (since no recurrence).\n",
    "* 🧱 **Feed-Forward Layers** → apply non-linear transformations.\n",
    "* 🧹 **Layer Norm & Residuals** → stabilize & speed up training.\n",
    "\n",
    "---\n",
    "\n",
    "## ✅ Quick Summary\n",
    "\n",
    "* 👉 Transformers = Attention + Position + Parallelism.\n",
    "* 👉 Foundation of all modern NLP models (BERT, GPT, T5).\n",
    "\n",
    "---\n"
   ]
  },
  {
   "cell_type": "markdown",
   "metadata": {},
   "source": []
  }
 ],
 "metadata": {
  "language_info": {
   "name": "python"
  }
 },
 "nbformat": 4,
 "nbformat_minor": 2
}
