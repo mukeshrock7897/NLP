{
 "cells": [
  {
   "cell_type": "markdown",
   "metadata": {},
   "source": [
    "Great 🚀 moving to the next notebook:\n",
    "`6_Transformers/2_Key_Models.ipynb`\n",
    "\n",
    "---\n",
    "\n",
    "# 🔑 Key Transformer Models\n",
    "\n",
    "## 🎯 Intent\n",
    "\n",
    "Understand the **most important Transformer architectures** powering modern NLP.\n",
    "\n",
    "---\n",
    "\n",
    "## 🧩 Major Families\n",
    "\n",
    "* 📖 **BERT (Encoder-only)** → great for classification, NER, QA (bidirectional).\n",
    "* ⚡ **RoBERTa / DistilBERT** → faster, optimized BERT variants.\n",
    "* ✍️ **GPT (Decoder-only)** → best for text generation, chat, coding.\n",
    "* 🔄 **T5 / BART (Encoder–Decoder)** → text-to-text framework (translation, summarization).\n",
    "\n",
    "---\n",
    "\n",
    "## ✅ Quick Summary\n",
    "\n",
    "* 👉 Encoders = understanding tasks.\n",
    "* 👉 Decoders = generation tasks.\n",
    "* 👉 Encoder–Decoder = flexible, text-to-text powerhouse.\n",
    "\n",
    "---\n"
   ]
  },
  {
   "cell_type": "markdown",
   "metadata": {},
   "source": []
  }
 ],
 "metadata": {
  "language_info": {
   "name": "python"
  }
 },
 "nbformat": 4,
 "nbformat_minor": 2
}
