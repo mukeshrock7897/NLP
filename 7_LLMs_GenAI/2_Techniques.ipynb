{
 "cells": [
  {
   "cell_type": "markdown",
   "metadata": {},
   "source": [
    "\n",
    "---\n",
    "\n",
    "# 🛠️ LLM Techniques\n",
    "\n",
    "## 🎯 Intent\n",
    "\n",
    "Improve how we **use & control** large language models 🧠.\n",
    "\n",
    "---\n",
    "\n",
    "## 🔑 Techniques\n",
    "\n",
    "* ✍️ **Prompt Engineering** →\n",
    "\n",
    "  * Zero-shot → no examples\n",
    "  * Few-shot → few examples\n",
    "  * Chain-of-Thought → step-by-step reasoning\n",
    "* 🤝 **RLHF (Reinforcement Learning with Human Feedback)** → align model with human preferences.\n",
    "* 🛡️ **Hallucination Control** → fact-checking, grounding with external data.\n",
    "\n",
    "---\n",
    "\n",
    "## ✅ Quick Summary\n",
    "\n",
    "* 👉 Prompts = guide the model.\n",
    "* 👉 RLHF = align with humans.\n",
    "* 👉 Fact-checking = safer, reliable AI.\n",
    "\n",
    "---\n"
   ]
  },
  {
   "cell_type": "markdown",
   "metadata": {},
   "source": []
  }
 ],
 "metadata": {
  "language_info": {
   "name": "python"
  }
 },
 "nbformat": 4,
 "nbformat_minor": 2
}
